{
 "cells": [
  {
   "cell_type": "markdown",
   "metadata": {},
   "source": [
    "This notebook will take you through Lesson 3 in Introductory Earth Data Science: https://www.earthdatascience.org/courses/intro-to-earth-data-science/file-formats/use-spatial-data/use-vector-data/\n",
    "\n",
    "## Import Shapefile Data Into Python Using Geopandas\n",
    "You will use the geopandas library to work with vector data in Python. Geopandas is built on top of the Python Pandas library. It stores spatial data in a tabular, dataframe format.\n"
   ]
  },
  {
   "cell_type": "markdown",
   "metadata": {},
   "source": [
    "To begin, set your working directory to earth-analytics and then download a single shapefile. \n",
    "\n",
    "You will start with working with the Natural Earth country boundary lines layer: https://www.naturalearthdata.com/downloads/\n",
    "\n",
    "Note that below you are using EarthPy to download a dataset from naturalearthdata.com (via Amazon Web Services). \n",
    "\n",
    "EarthPy automatically creates the earth-analytics directory for you when you use it, but by default makes this directory in your home directory. We're doing this here because you guys are on PCs.\n",
    "\n",
    "You set the working directory after you download the data as a precaution to ensure that the earth-analytics directory already exists on your computer. This is not a standard order of operations, as we are not using our SU H drive, but we are demonstrating it here to ensure the notebook runs on all computers!"
   ]
  },
  {
   "cell_type": "code",
   "execution_count": 15,
   "metadata": {},
   "outputs": [],
   "source": [
    "# Import packages\n",
    "import os\n",
    "import matplotlib.pyplot as plt\n",
    "import geopandas as gpd\n",
    "import earthpy as et"
   ]
  },
  {
   "cell_type": "code",
   "execution_count": 2,
   "metadata": {},
   "outputs": [
    {
     "name": "stdout",
     "output_type": "stream",
     "text": [
      "# packages in environment at C:\\Users\\SarShel\\anaconda3\\envs\\geostats_env:\n",
      "#\n",
      "# Name                    Version                   Build  Channel\n",
      "affine                    2.3.0              pyhd3eb1b0_0  \n",
      "appdirs                   1.4.4                    pypi_0    pypi\n",
      "argcomplete               1.12.3             pyhd3eb1b0_0  \n",
      "argon2-cffi               20.1.0           py37h2bbff1b_1  \n",
      "async_generator           1.10             py37h28b3542_0  \n",
      "atomicwrites              1.4.0                    pypi_0    pypi\n",
      "attrs                     21.2.0             pyhd3eb1b0_0  \n",
      "aws-requests-auth         0.4.3                    pypi_0    pypi\n",
      "backcall                  0.2.0              pyhd3eb1b0_0  \n",
      "beautifulsoup4            4.10.0             pyh06a4308_0  \n",
      "blas                      1.0                         mkl  \n",
      "bleach                    4.0.0              pyhd3eb1b0_0  \n",
      "boto3                     1.15.18                  pypi_0    pypi\n",
      "botocore                  1.18.18                  pypi_0    pypi\n",
      "bottleneck                1.3.2            py37h2a96729_1  \n",
      "brotli                    1.0.9                ha925a31_2  \n",
      "brotlipy                  0.7.0           py37h2bbff1b_1003  \n",
      "bs4                       4.10.0               hd3eb1b0_0  \n",
      "bzip2                     1.0.8                he774522_0  \n",
      "ca-certificates           2021.7.5             haa95532_1  \n",
      "certifi                   2021.5.30        py37haa95532_0  \n",
      "cffi                      1.14.6           py37h2bbff1b_0  \n",
      "charset-normalizer        2.0.6                    pypi_0    pypi\n",
      "click                     7.1.2              pyhd3eb1b0_0  \n",
      "click-plugins             1.1.1              pyhd3eb1b0_0  \n",
      "cligj                     0.7.2            py37haa95532_0  \n",
      "cloudpickle               2.0.0              pyhd3eb1b0_0  \n",
      "colorama                  0.4.4              pyhd3eb1b0_0  \n",
      "cryptography              3.4.7            py37h71e12ea_0  \n",
      "curl                      7.71.1               h86230a5_2  \n",
      "cycler                    0.10.0                   pypi_0    pypi\n",
      "cytoolz                   0.11.0           py37he774522_0  \n",
      "dask-core                 2021.8.1           pyhd3eb1b0_0  \n",
      "debugpy                   1.4.1            py37hd77b12b_0  \n",
      "decorator                 5.0.9              pyhd3eb1b0_0  \n",
      "defusedxml                0.7.1              pyhd3eb1b0_0  \n",
      "descartes                 1.1.0                    pypi_0    pypi\n",
      "dnspython                 2.1.0                    pypi_0    pypi\n",
      "earthpy                   0.9.2                    pypi_0    pypi\n",
      "entrypoints               0.3                      py37_0  \n",
      "esda                      2.4.1                    pypi_0    pypi\n",
      "expat                     2.4.1                h6c2663c_2  \n",
      "fiona                     1.8.4            py37h22081e2_0  \n",
      "flask                     2.0.1                    pypi_0    pypi\n",
      "flask-cors                3.0.10                   pypi_0    pypi\n",
      "flask-json                0.3.4                    pypi_0    pypi\n",
      "fonttools                 4.25.0             pyhd3eb1b0_0  \n",
      "freetype                  2.10.4               hd328e21_0  \n",
      "freexl                    1.0.6                h2bbff1b_0  \n",
      "fsspec                    2021.8.1           pyhd3eb1b0_0  \n",
      "gdal                      2.3.3            py37hdf43c64_0  \n",
      "geographiclib             1.50                     pypi_0    pypi\n",
      "geopandas                 0.8.0                    pypi_0    pypi\n",
      "geopy                     2.0.0                    pypi_0    pypi\n",
      "geos                      3.7.1                h33f27b4_0  \n",
      "hdf4                      4.2.13               h712560f_2  \n",
      "hdf5                      1.10.4               h7ebc959_0  \n",
      "icc_rt                    2019.0.0             h0cc432a_1  \n",
      "icu                       58.2                 ha925a31_3  \n",
      "idna                      3.2                pyhd3eb1b0_0  \n",
      "imageio                   2.9.0              pyhd3eb1b0_0  \n",
      "importlib-metadata        4.8.1            py37haa95532_0  \n",
      "importlib_metadata        4.8.1                hd3eb1b0_0  \n",
      "iniconfig                 1.1.1                    pypi_0    pypi\n",
      "intel-openmp              2021.3.0          haa95532_3372  \n",
      "ipykernel                 6.2.0            py37haa95532_1  \n",
      "ipython                   7.27.0           py37hd4e2768_0  \n",
      "ipython_genutils          0.2.0              pyhd3eb1b0_1  \n",
      "ipywidgets                7.6.4              pyhd3eb1b0_0  \n",
      "itsdangerous              2.0.1                    pypi_0    pypi\n",
      "jedi                      0.18.0           py37haa95532_1  \n",
      "jinja2                    3.0.1              pyhd3eb1b0_0  \n",
      "jmespath                  0.10.0                   pypi_0    pypi\n",
      "joblib                    1.0.1              pyhd3eb1b0_0  \n",
      "jpeg                      9d                   h2bbff1b_0  \n",
      "jsonlines                 1.2.0                    pypi_0    pypi\n",
      "jsonschema                3.2.0              pyhd3eb1b0_2  \n",
      "jupyter                   1.0.0                    py37_7  \n",
      "jupyter_client            7.0.1              pyhd3eb1b0_0  \n",
      "jupyter_console           6.4.0              pyhd3eb1b0_0  \n",
      "jupyter_core              4.7.1            py37haa95532_0  \n",
      "jupyterlab_pygments       0.1.2                      py_0  \n",
      "jupyterlab_widgets        1.0.0              pyhd3eb1b0_1  \n",
      "kealib                    1.4.7                h07cbb95_6  \n",
      "kiwisolver                1.3.2                    pypi_0    pypi\n",
      "krb5                      1.16.4               hc04afaa_0  \n",
      "libboost                  1.73.0              h6c2663c_11  \n",
      "libcurl                   7.71.1               h86230a5_2  \n",
      "libgdal                   2.3.3                h10f50ba_0  \n",
      "libiconv                  1.15                 h1df5818_7  \n",
      "libkml                    1.3.0                hd124aa8_5  \n",
      "libnetcdf                 4.6.1                h411e497_2  \n",
      "libpng                    1.6.37               h2a8f88b_0  \n",
      "libpq                     11.2                 h3235a2c_0  \n",
      "libpysal                  4.3.0                      py_0  \n",
      "libspatialindex           1.9.3                h6c2663c_0  \n",
      "libspatialite             4.3.0a              hc36aec2_19  \n",
      "libssh2                   1.9.0                h7a1dbc1_1  \n",
      "libtiff                   4.2.0                hd0e1b90_0  \n",
      "libxml2                   2.9.12               h0ad7f3c_0  \n",
      "llvmlite                  0.37.0                   pypi_0    pypi\n",
      "locket                    0.2.1            py37haa95532_1  \n",
      "lz4-c                     1.9.3                h2bbff1b_1  \n",
      "m2w64-gcc-libgfortran     5.3.0                         6  \n",
      "m2w64-gcc-libs            5.3.0                         7  \n",
      "m2w64-gcc-libs-core       5.3.0                         7  \n",
      "m2w64-gmp                 6.1.0                         2  \n",
      "m2w64-libwinpthread-git   5.0.0.4634.697f757               2  \n",
      "mapclassify               2.3.0                      py_0  \n",
      "markupsafe                2.0.1            py37h2bbff1b_0  \n",
      "matplotlib                3.4.3                    pypi_0    pypi\n",
      "Note: you may need to restart the kernel to use updated packages.\n",
      "\n",
      "matplotlib-base           3.4.2            py37h49ac443_0  \n",
      "matplotlib-inline         0.1.2              pyhd3eb1b0_2  \n",
      "mistune                   0.8.4           py37hfa6e2cd_1001  \n",
      "mkl                       2020.2                      256  \n",
      "mkl-service               2.3.0            py37h196d8e1_0  \n",
      "mkl_fft                   1.3.0            py37h46781fe_0  \n",
      "mkl_random                1.1.1            py37h47e9c7a_0  \n",
      "mpmath                    1.1.0                    py37_0  \n",
      "msys2-conda-epoch         20160418                      1  \n",
      "munch                     2.5.0              pyhd3eb1b0_0  \n",
      "munkres                   1.1.4                      py_0  \n",
      "nbclient                  0.5.3              pyhd3eb1b0_0  \n",
      "nbconvert                 6.1.0            py37haa95532_0  \n",
      "nbformat                  5.1.3              pyhd3eb1b0_0  \n",
      "nest-asyncio              1.5.1              pyhd3eb1b0_0  \n",
      "networkx                  2.6.3                    pypi_0    pypi\n",
      "notebook                  6.4.3            py37haa95532_0  \n",
      "numba                     0.54.0                   pypi_0    pypi\n",
      "numpy                     1.19.2           py37hadc3359_0  \n",
      "numpy-base                1.19.2           py37ha3acd2a_0  \n",
      "olefile                   0.46                     py37_0  \n",
      "openssl                   1.1.1l               h2bbff1b_0  \n",
      "packaging                 21.0               pyhd3eb1b0_0  \n",
      "pandas                    1.0.5            py37h47e9c7a_0  \n",
      "pandocfilters             1.4.3            py37haa95532_1  \n",
      "parso                     0.8.2              pyhd3eb1b0_0  \n",
      "partd                     1.2.0              pyhd3eb1b0_0  \n",
      "patsy                     0.5.2                    pypi_0    pypi\n",
      "pcre                      8.45                 hd77b12b_0  \n",
      "pickleshare               0.7.5           pyhd3eb1b0_1003  \n",
      "pillow                    8.3.2                    pypi_0    pypi\n",
      "pip                       21.0.1           py37haa95532_0  \n",
      "pluggy                    1.0.0                    pypi_0    pypi\n",
      "proj4                     5.2.0                ha925a31_1  \n",
      "prometheus_client         0.11.0             pyhd3eb1b0_0  \n",
      "prompt-toolkit            3.0.17             pyhca03da5_0  \n",
      "prompt_toolkit            3.0.17               hd3eb1b0_0  \n",
      "py                        1.10.0                   pypi_0    pypi\n",
      "pycparser                 2.20                       py_2  \n",
      "pygments                  2.10.0             pyhd3eb1b0_0  \n",
      "pyopenssl                 20.0.1             pyhd3eb1b0_1  \n",
      "pyparsing                 2.4.7              pyhd3eb1b0_0  \n",
      "pyproj                    3.2.1                    pypi_0    pypi\n",
      "pyqt                      5.9.2            py37h6538335_2  \n",
      "pyrsistent                0.18.0                   pypi_0    pypi\n",
      "pysocks                   1.7.1                    py37_1  \n",
      "python                    3.7.11               h6244533_0  \n",
      "python-dateutil           2.8.0                    pypi_0    pypi\n",
      "pytz                      2021.1             pyhd3eb1b0_0  \n",
      "pywavelets                1.1.1            py37he774522_2  \n",
      "pywin32                   228              py37hbaba5e8_1  \n",
      "pywinpty                  0.5.7                    py37_0  \n",
      "pyyaml                    5.4.1                    pypi_0    pypi\n",
      "pyzmq                     22.2.1           py37hd77b12b_1  \n",
      "qt                        5.9.7            vc14h73c81de_0  \n",
      "qtconsole                 5.1.1              pyhd3eb1b0_0  \n",
      "qtpy                      1.10.0             pyhd3eb1b0_0  \n",
      "quantecon                 0.5.1                    pypi_0    pypi\n",
      "rasterio                  1.0.21           py37h6bd7d87_0  \n",
      "rasterstats               0.15.0                   pypi_0    pypi\n",
      "requests                  2.26.0             pyhd3eb1b0_0  \n",
      "requests-futures          1.0.0                    pypi_0    pypi\n",
      "rtree                     0.9.4            py37h21ff451_1  \n",
      "s3transfer                0.3.7                    pypi_0    pypi\n",
      "scikit-image              0.18.3                   pypi_0    pypi\n",
      "scikit-learn              0.23.1           py37h25d0782_0  \n",
      "scipy                     1.5.0            py37h9439919_0  \n",
      "seaborn                   0.11.2                   pypi_0    pypi\n",
      "send2trash                1.8.0              pyhd3eb1b0_1  \n",
      "setuptools                58.0.4           py37haa95532_0  \n",
      "shapely                   1.6.4            py37h222a598_0  \n",
      "simplejson                3.17.5                   pypi_0    pypi\n",
      "sip                       4.19.8           py37h6538335_0  \n",
      "six                       1.16.0             pyhd3eb1b0_0  \n",
      "snuggs                    1.4.7              pyhd3eb1b0_0  \n",
      "soupsieve                 2.2.1              pyhd3eb1b0_0  \n",
      "spglm                     1.0.8                    pypi_0    pypi\n",
      "spreg                     1.2.4                    pypi_0    pypi\n",
      "sqlite                    3.36.0               h2bbff1b_0  \n",
      "statsmodels               0.12.2                   pypi_0    pypi\n",
      "sympy                     1.8                      pypi_0    pypi\n",
      "tenacity                  8.0.1                    pypi_0    pypi\n",
      "terminado                 0.9.4            py37haa95532_0  \n",
      "testpath                  0.5.0              pyhd3eb1b0_0  \n",
      "threadpoolctl             2.2.0              pyh0d69192_0  \n",
      "tifffile                  2021.8.30                pypi_0    pypi\n",
      "tk                        8.6.11               h2bbff1b_0  \n",
      "toml                      0.10.2                   pypi_0    pypi\n",
      "toolz                     0.11.1             pyhd3eb1b0_0  \n",
      "tornado                   6.1              py37h2bbff1b_0  \n",
      "tqdm                      4.62.3                   pypi_0    pypi\n",
      "traitlets                 5.1.0              pyhd3eb1b0_0  \n",
      "typing_extensions         3.10.0.2           pyh06a4308_0  \n",
      "urllib3                   1.24.3                   pypi_0    pypi\n",
      "vc                        14.2                 h21ff451_1  \n",
      "vs2015_runtime            14.27.29016          h5e58377_2  \n",
      "wcwidth                   0.2.5              pyhd3eb1b0_0  \n",
      "webencodings              0.5.1                    py37_1  \n",
      "werkzeug                  2.0.1                    pypi_0    pypi\n",
      "wheel                     0.37.0             pyhd3eb1b0_1  \n",
      "widgetsnbextension        3.5.1                    py37_0  \n",
      "win_inet_pton             1.1.0            py37haa95532_0  \n",
      "wincertstore              0.2                      py37_0  \n",
      "winpty                    0.4.3                         4  \n",
      "xerces-c                  3.2.3                ha925a31_0  \n",
      "xz                        5.2.5                h62dcd97_0  \n",
      "yaml                      0.2.5                he774522_0  \n",
      "zipp                      3.6.0                    pypi_0    pypi\n",
      "zlib                      1.2.11               h62dcd97_4  \n",
      "zstd                      1.4.9                h19a0ad4_0  \n"
     ]
    }
   ],
   "source": [
    "conda list"
   ]
  },
  {
   "cell_type": "markdown",
   "metadata": {},
   "source": [
    "### geopandas\n",
    "Next, you open the data using geopandas. \n",
    "\n",
    "***geopandas*** takes all of the data science magic from the pandas library and makes it compatible with shapfiles.\n",
    "\n",
    "Learn more here: https://geopandas.org/\n",
    "\n",
    "You can view the first 5 rows of the data using .head() in the same way you used .head() for Pandas dataframes.¶"
   ]
  },
  {
   "cell_type": "code",
   "execution_count": 8,
   "metadata": {},
   "outputs": [],
   "source": [
    "\n",
    "\n",
    "os.chdir('C:\\\\Users\\\\SarShel\\\\earth-analytics\\\\data\\\\earthpy-downloads')"
   ]
  },
  {
   "cell_type": "code",
   "execution_count": 9,
   "metadata": {},
   "outputs": [
    {
     "data": {
      "text/plain": [
       "'C:\\\\Users\\\\SarShel\\\\earth-analytics\\\\data\\\\earthpy-downloads'"
      ]
     },
     "execution_count": 9,
     "metadata": {},
     "output_type": "execute_result"
    }
   ],
   "source": [
    "os.getcwd()"
   ]
  },
  {
   "cell_type": "code",
   "execution_count": 19,
   "metadata": {},
   "outputs": [
    {
     "ename": "SyntaxError",
     "evalue": "EOL while scanning string literal (Temp/ipykernel_6208/1091799424.py, line 10)",
     "output_type": "error",
     "traceback": [
      "\u001b[1;36m  File \u001b[1;32m\"C:\\Users\\SarShel\\AppData\\Local\\Temp/ipykernel_6208/1091799424.py\"\u001b[1;36m, line \u001b[1;32m10\u001b[0m\n\u001b[1;33m    os.chdir('C:\\\\Users\\\\SarShel\\\\earth-analytics\\\\data\\\\earthpy-downloads\\\\ne_50_m_coastline\\\\ne_50m_coastline.shp)\u001b[0m\n\u001b[1;37m                                                                                                                    ^\u001b[0m\n\u001b[1;31mSyntaxError\u001b[0m\u001b[1;31m:\u001b[0m EOL while scanning string literal\n"
     ]
    }
   ],
   "source": [
    "#set URL for the dataset\n",
    "coastlines_url = \"https://naturalearth.s3.amazonaws.com/50m_physical/ne_50m_coastline.zip\"\n",
    "\n",
    "#download the URL into your earth-analytics folder\n",
    "et.data.get_data(url=coastlines_url)\n",
    "\n",
    "#name the filepath relative to your working directory: note this is operating system agnostic\n",
    "coastlines_path = os.path.join(\"data\", \"earthpy-downloads\",\"ne_50m_coastline\",\"ne_50m_coastline.shp\")\n",
    "\n",
    "os.chdir('C:\\\\Users\\\\SarShel\\\\earth-analytics\\\\data\\\\earthpy-downloads\\\\ne_50_m_coastline\\\\ne_50m_coastline.shp)\n",
    "\n",
    "#use geopandas as gpd to \"read_file\"\n",
    "coastlines = gpd.read_file(coastlines_path)\n",
    "\n",
    "#prints \"head\" just like pandas!\n",
    "#coastlines.head()"
   ]
  },
  {
   "cell_type": "markdown",
   "metadata": {},
   "source": [
    "We're going to download a second dataset, called coastlines:"
   ]
  },
  {
   "cell_type": "markdown",
   "metadata": {},
   "source": [
    "### See? GeoPandas Creates GeoDataFrames Which Have the Same Structure As Pandas DataFrames\n",
    "The structure of a Geopandas GeoDataFrame is very similar to a Pandas dataframe.\n",
    "\n",
    "### A few differences include:\n",
    "The GeoDataFrame contains a geometry column which stores spatial information. The geometry column in your GeoDataFrame stores the boundary information (the lines that make up each shape in your data). This allows you to plot points, lines or polygons.\n",
    "\n",
    "The GeoDataFrame stores spatial attributes such as coordinate reference systems and spatial extents.\n",
    "\n",
    "Similar to Pandas, you can plot the data using .plot()"
   ]
  },
  {
   "cell_type": "code",
   "execution_count": 20,
   "metadata": {},
   "outputs": [
    {
     "ename": "NameError",
     "evalue": "name 'coastlines' is not defined",
     "output_type": "error",
     "traceback": [
      "\u001b[1;31m---------------------------------------------------------------------------\u001b[0m",
      "\u001b[1;31mNameError\u001b[0m                                 Traceback (most recent call last)",
      "\u001b[1;32m~\\AppData\\Local\\Temp/ipykernel_10952/2773764991.py\u001b[0m in \u001b[0;36m<module>\u001b[1;34m\u001b[0m\n\u001b[0;32m      1\u001b[0m \u001b[1;31m# Plot the data\u001b[0m\u001b[1;33m\u001b[0m\u001b[1;33m\u001b[0m\u001b[1;33m\u001b[0m\u001b[0m\n\u001b[0;32m      2\u001b[0m \u001b[0mf\u001b[0m\u001b[1;33m,\u001b[0m \u001b[0max1\u001b[0m \u001b[1;33m=\u001b[0m \u001b[0mplt\u001b[0m\u001b[1;33m.\u001b[0m\u001b[0msubplots\u001b[0m\u001b[1;33m(\u001b[0m\u001b[0mfigsize\u001b[0m\u001b[1;33m=\u001b[0m\u001b[1;33m(\u001b[0m\u001b[1;36m12\u001b[0m\u001b[1;33m,\u001b[0m \u001b[1;36m6\u001b[0m\u001b[1;33m)\u001b[0m\u001b[1;33m)\u001b[0m\u001b[1;33m\u001b[0m\u001b[1;33m\u001b[0m\u001b[0m\n\u001b[1;32m----> 3\u001b[1;33m \u001b[0mcoastlines\u001b[0m\u001b[1;33m.\u001b[0m\u001b[0mplot\u001b[0m\u001b[1;33m(\u001b[0m\u001b[0max\u001b[0m\u001b[1;33m=\u001b[0m\u001b[0max1\u001b[0m\u001b[1;33m)\u001b[0m\u001b[1;33m\u001b[0m\u001b[1;33m\u001b[0m\u001b[0m\n\u001b[0m\u001b[0;32m      4\u001b[0m \u001b[1;33m\u001b[0m\u001b[0m\n\u001b[0;32m      5\u001b[0m \u001b[1;31m# Add a title to your plot\u001b[0m\u001b[1;33m\u001b[0m\u001b[1;33m\u001b[0m\u001b[1;33m\u001b[0m\u001b[0m\n",
      "\u001b[1;31mNameError\u001b[0m: name 'coastlines' is not defined"
     ]
    },
    {
     "data": {
      "image/png": "[encoded data removed]",
      "text/plain": [
       "<Figure size 864x432 with 1 Axes>"
      ]
     },
     "metadata": {
      "needs_background": "light"
     },
     "output_type": "display_data"
    }
   ],
   "source": [
    "# Plot the data\n",
    "f, ax1 = plt.subplots(figsize=(12, 6))\n",
    "coastlines.plot(ax=ax1)\n",
    "\n",
    "# Add a title to your plot\n",
    "ax1.set(title=\"Global Coastline Boundaries\")\n",
    "plt.show()"
   ]
  },
  {
   "cell_type": "markdown",
   "metadata": {},
   "source": [
    "### Check the Spatial Vector Data Type\n",
    "You can look at the data to figure out what type of data are stored in the shapefile (points, line or polygons). However, you can also get that information by calling .geom_type"
   ]
  },
  {
   "cell_type": "code",
   "execution_count": 6,
   "metadata": {},
   "outputs": [
    {
     "data": {
      "text/plain": [
       "0       LineString\n",
       "1       LineString\n",
       "2       LineString\n",
       "3       LineString\n",
       "4       LineString\n",
       "           ...    \n",
       "1423    LineString\n",
       "1424    LineString\n",
       "1425    LineString\n",
       "1426    LineString\n",
       "1427    LineString\n",
       "Length: 1428, dtype: object"
      ]
     },
     "execution_count": 6,
     "metadata": {},
     "output_type": "execute_result"
    }
   ],
   "source": [
    "# Is the geometry type point, line or polygon?\n",
    "coastlines.geom_type"
   ]
  },
  {
   "cell_type": "markdown",
   "metadata": {},
   "source": [
    "Also similar to Pandas, you can view descriptive information about the GeoDataFrame using .info(). This includes the number of columns, rows and the header name and type of each column.¶"
   ]
  },
  {
   "cell_type": "code",
   "execution_count": 7,
   "metadata": {},
   "outputs": [
    {
     "name": "stdout",
     "output_type": "stream",
     "text": [
      "<class 'geopandas.geodataframe.GeoDataFrame'>\n",
      "RangeIndex: 1428 entries, 0 to 1427\n",
      "Data columns (total 4 columns):\n",
      " #   Column      Non-Null Count  Dtype   \n",
      "---  ------      --------------  -----   \n",
      " 0   scalerank   1428 non-null   int64   \n",
      " 1   featurecla  1428 non-null   object  \n",
      " 2   min_zoom    1428 non-null   float64 \n",
      " 3   geometry    1428 non-null   geometry\n",
      "dtypes: float64(1), geometry(1), int64(1), object(1)\n",
      "memory usage: 44.8+ KB\n"
     ]
    }
   ],
   "source": [
    "coastlines.info()"
   ]
  },
  {
   "cell_type": "markdown",
   "metadata": {},
   "source": [
    "### Open Vector Point Data\n",
    "Next, you will open up another shapefile using Geopandas."
   ]
  },
  {
   "cell_type": "code",
   "execution_count": 8,
   "metadata": {},
   "outputs": [
    {
     "name": "stdout",
     "output_type": "stream",
     "text": [
      "Downloading from https://naturalearth.s3.amazonaws.com/50m_cultural/ne_50m_populated_places_simple.zip\n",
      "Extracted output to C:\\Users\\SarShel\\earth-analytics\\data\\earthpy-downloads\\ne_50m_populated_places_simple\n"
     ]
    }
   ],
   "source": [
    "# Open a second layer\n",
    "et.data.get_data(\n",
    "    url='https://naturalearth.s3.amazonaws.com/50m_cultural/ne_50m_populated_places_simple.zip')\n",
    "\n",
    "# Create a path to the populated places shapefile\n",
    "populated_places_path = os.path.join(\"data\", \"earthpy-downloads\",\n",
    "                                     \"ne_50m_populated_places_simple\",\n",
    "                                     \"ne_50m_populated_places_simple.shp\")\n",
    "\n",
    "#read in a new geopandas data frame called \"cities\"\n",
    "cities = gpd.read_file(populated_places_path)"
   ]
  },
  {
   "cell_type": "markdown",
   "metadata": {},
   "source": [
    "### TASK 1: Is Cities a point, line, or polygon file? Type a command to find out and interpret the answer."
   ]
  },
  {
   "cell_type": "code",
   "execution_count": null,
   "metadata": {},
   "outputs": [],
   "source": [
    "# Task 1 answer here"
   ]
  },
  {
   "cell_type": "markdown",
   "metadata": {},
   "source": [
    "The attributes for a shapefile imported into a GeoDataFrame can be viewed in the GeoDataFrame itself."
   ]
  },
  {
   "cell_type": "code",
   "execution_count": null,
   "metadata": {},
   "outputs": [],
   "source": [
    "# View first 5 rows of GeoDataFrame\n",
    "cities.head()\n",
    "\n",
    "\n",
    "# Experiment! How would you view the first 10 rows of a GeoDataFrame?"
   ]
  },
  {
   "cell_type": "markdown",
   "metadata": {},
   "source": [
    "Just like with Pandas DataFrames, standard arguments can be used to calculate summary statistics on your GeoPandas object:"
   ]
  },
  {
   "cell_type": "code",
   "execution_count": null,
   "metadata": {},
   "outputs": [],
   "source": [
    "#Let's see what our most populous city is\n",
    "print(cities.pop_max)\n",
    "\n",
    "print(\"The largest city has \" + \n",
    "      str(cities.pop_max.max()) \n",
    "      + \" people!\")"
   ]
  },
  {
   "cell_type": "markdown",
   "metadata": {},
   "source": [
    "### Creating Maps Using Multiple Shapefiles\n",
    "You can create maps using multiple shapefiles with Geopandas in a similar way that you may do so using a graphical user interface (GUI) tool like ArcGIS or QGIS (open source alternative to ArcGIS). To do this you will need to open a second spatial file. Below you will use the Natural Earth populated places shapefile to add additional layers to your map.\n",
    "\n",
    "To plot two datasets together, you will first create a Matplotlib figure object. Notice in the example below that you define the figure ax1 in the first line. You then tell GeoPandas to plot the data on that particular figure using the parameter ax=\n",
    "\n",
    "The code looks like this:"
   ]
  },
  {
   "cell_type": "code",
   "execution_count": null,
   "metadata": {},
   "outputs": [],
   "source": [
    "#Experiment! \n",
    "#What happens if you change FigSize numbers? \n",
    "#What happens if you \"comment out\" (put a # in front of) plt.show()? \n",
    "#What happens if you change the color?\n",
    "\n",
    "f, ax1 = plt.subplots(figsize=(10, 6))\n",
    "coastlines.plot(ax=ax1,\n",
    "               color = \"black\")\n",
    "plt.show()"
   ]
  },
  {
   "cell_type": "markdown",
   "metadata": {},
   "source": [
    "To add another layer to your map, you can add a second .plot() call and specify the ax= to be ax1 again. This tells Python to layer the two datasets in the same figure."
   ]
  },
  {
   "cell_type": "code",
   "execution_count": null,
   "metadata": {},
   "outputs": [],
   "source": [
    "# Create a map or plot with two data layers\n",
    "\n",
    "#Experiment! What happens if you remove ax=ax1 from coastlines.plot() and cities.plot()?\n",
    "\n",
    "f, ax1 = plt.subplots(figsize=(10, 6))\n",
    "coastlines.plot(ax=ax1,\n",
    "                color=\"black\")\n",
    "cities.plot(ax=ax1)\n",
    "\n",
    "# Add a title\n",
    "ax1.set(title=\"Map of Cities and Global Lines\")\n",
    "plt.show()"
   ]
  },
  {
   "cell_type": "markdown",
   "metadata": {},
   "source": [
    "Learn more about custom plotting in Python:\n",
    "\n",
    "https://www.earthdatascience.org/courses/scientists-guide-to-plotting-data-in-python/plot-spatial-data/customize-vector-plots/python-customize-map-legends-geopandas/\n",
    "\n",
    "https://geopandas.org/gallery/plotting_with_geoplot.html"
   ]
  },
  {
   "cell_type": "markdown",
   "metadata": {},
   "source": [
    "### TASK 2\n",
    "Using the resources above, create a map that contains:\n",
    "1. Coastal lines (black)\n",
    "2. Cities (points), with a color scale for pop_max\n",
    "3. A legend"
   ]
  },
  {
   "cell_type": "code",
   "execution_count": null,
   "metadata": {},
   "outputs": [],
   "source": [
    "# Format and plot your results from task 2\n",
    "f, ax1 = plt.subplots(figsize=(10, 6))\n",
    "coastlines.plot(ax=ax1,\n",
    "                #Modify arguments here!\n",
    "               )\n",
    "cities.plot(ax=ax1,\n",
    "            #Modify arguments here!\n",
    "           )\n",
    "           \n",
    "\n",
    "# Add a title\n",
    "ax1.set(title=\"Map of Cities Populations and Global Lines\")\n",
    "plt.show()\n"
   ]
  },
  {
   "cell_type": "markdown",
   "metadata": {},
   "source": [
    "### Geoprocessing Vector Data Geoprocessing in Python: Clip Data\n",
    "Sometimes you have spatial data for a larger area than you need to process. For example you may be working on a project for your state or country. But perhaps you have data for the entire globe.\n",
    "\n",
    "You can clip the data spatially to another boundary to make it smaller. Once the data are clipped, your processing operations will be faster. It will also make creating maps of your study area easier and cleaner.\n",
    "\n",
    "In this workflow, you'll subset your cities data to only look at counties in the United States. First, we'll import a dataset of global political boundaries."
   ]
  },
  {
   "cell_type": "code",
   "execution_count": null,
   "metadata": {},
   "outputs": [],
   "source": [
    "country_data_url = \"https://naturalearth.s3.amazonaws.com/50m_cultural/ne_50m_admin_0_countries.zip\"\n",
    "et.data.get_data(url=country_data_url)\n",
    "\n",
    "# Create a path to the countries shapefile\n",
    "countries_path = os.path.join(\"data\", \"earthpy-downloads\",\n",
    "                              \"ne_50m_admin_0_countries\", \n",
    "                              \"ne_50m_admin_0_countries.shp\")\n",
    "\n",
    "# Read in the countries shapefile as GeoPandas dataframe\n",
    "countries = gpd.read_file(countries_path)\n",
    "\n",
    "# View attribute table:\n",
    "countries.head()"
   ]
  },
  {
   "cell_type": "markdown",
   "metadata": {},
   "source": [
    "### Next, we'll use built-in pandas funcitonality to subset the shapefile to just the US boundary"
   ]
  },
  {
   "cell_type": "code",
   "execution_count": null,
   "metadata": {},
   "outputs": [],
   "source": [
    "# Subset the countries data to just a single country\n",
    "united_states_boundary = countries.loc[countries['SOVEREIGNT']\n",
    "                                       == 'United States of America']\n",
    "\n",
    "# Notice in the plot below, that only the boundary for the USA is in the new variable\n",
    "f, ax = plt.subplots(figsize=(10, 6))\n",
    "united_states_boundary.plot(ax=ax)\n",
    "plt.show()"
   ]
  },
  {
   "cell_type": "markdown",
   "metadata": {},
   "source": [
    "### Now, we'll subset the cities layer to include only records which overlap in space with the united_states_boundary layer (aka are in the United States)"
   ]
  },
  {
   "cell_type": "code",
   "execution_count": null,
   "metadata": {},
   "outputs": [],
   "source": [
    "# Clip the cities data to the USA boundary\n",
    "# Note -- this operation may take some time to run - be patient\n",
    "cities_in_usa = gpd.clip(cities, united_states_boundary)\n",
    "\n",
    "# Plot your final clipped data\n",
    "f, ax = plt.subplots()\n",
    "cities_in_usa.plot(ax=ax)\n",
    "ax.set(title=\"Cities clipped to the USA Boundary\")\n",
    "plt.show()"
   ]
  },
  {
   "cell_type": "markdown",
   "metadata": {},
   "source": [
    "### TASK 3: What is the largest city in the United States? What is the population of that city?\n",
    "*Hint: check the colutions to the extra credit from Python101"
   ]
  },
  {
   "cell_type": "code",
   "execution_count": null,
   "metadata": {},
   "outputs": [],
   "source": [
    "#Task 3 code here"
   ]
  }
 ],
 "metadata": {
  "kernelspec": {
   "display_name": "geostats_env",
   "language": "python",
   "name": "geostats_env"
  },
  "language_info": {
   "codemirror_mode": {
    "name": "ipython",
    "version": 3
   },
   "file_extension": ".py",
   "mimetype": "text/x-python",
   "name": "python",
   "nbconvert_exporter": "python",
   "pygments_lexer": "ipython3",
   "version": "3.7.11"
  }
 },
 "nbformat": 4,
 "nbformat_minor": 4
}
