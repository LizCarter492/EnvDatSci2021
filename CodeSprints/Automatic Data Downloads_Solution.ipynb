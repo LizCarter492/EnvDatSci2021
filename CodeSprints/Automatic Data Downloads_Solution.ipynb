{
 "cells": [
  {
   "cell_type": "markdown",
   "metadata": {},
   "source": [
    "# Automatic Data Downloads\n",
    "Satellite images and outputs from global earth systems models can be very large files. If we're dealing with time series, large spatial areas, or multivariate model outputs, we can quickly be moving into data volumes that exceed the memory and storage capacity of personal computers. To access these types of global data, we are interfacing with online databases. Today's lesson is intended to give you the tools to programmatically access online databases. These tools will enable you to use your personal computer to convert these large datasets into analysis-ready data for your research project. Specifically, today we'll learn to:\n",
    "\n",
    "1. Interpret directory structure of ftp and http addresses.\n",
    "2. Create a project directory on your local machine.\n",
    "3. Configure a .gitignore file to ignore raw data.\n",
    "4. Use the command line to download files from the internet.\n",
    "\n",
    "If there's time, we'll break into groups based on research interest and start utilizing APIs to search datasets on public geospatial data repositories that match the location and time period of your study area."
   ]
  },
  {
   "cell_type": "code",
   "execution_count": 1,
   "metadata": {},
   "outputs": [],
   "source": [
    "import pandas as pd\n",
    "from IPython.display import HTML\n",
    "import os\n",
    "import urllib.request"
   ]
  },
  {
   "cell_type": "code",
   "execution_count": 2,
   "metadata": {},
   "outputs": [
    {
     "name": "stdout",
     "output_type": "stream",
     "text": [
      "# packages in environment at C:\\Users\\SarShel\\anaconda3\\envs\\geostats_env:\n",
      "#\n",
      "# Name                    Version                   Build  Channel\n",
      "affine                    2.3.0              pyhd3eb1b0_0  \n",
      "appdirs                   1.4.4                    pypi_0    pypi\n",
      "argcomplete               1.12.3             pyhd3eb1b0_0  \n",
      "argon2-cffi               20.1.0           py37h2bbff1b_1  \n",
      "async_generator           1.10             py37h28b3542_0  \n",
      "atomicwrites              1.4.0                    pypi_0    pypi\n",
      "attrs                     21.2.0             pyhd3eb1b0_0  \n",
      "aws-requests-auth         0.4.3                    pypi_0    pypi\n",
      "backcall                  0.2.0              pyhd3eb1b0_0  \n",
      "beautifulsoup4            4.10.0             pyh06a4308_0  \n",
      "blas                      1.0                         mkl  \n",
      "bleach                    4.0.0              pyhd3eb1b0_0  \n",
      "boto3                     1.15.18                  pypi_0    pypi\n",
      "botocore                  1.18.18                  pypi_0    pypi\n",
      "bottleneck                1.3.2            py37h2a96729_1  \n",
      "brotli                    1.0.9                ha925a31_2  \n",
      "brotlipy                  0.7.0           py37h2bbff1b_1003  \n",
      "bs4                       4.10.0               hd3eb1b0_0  \n",
      "bzip2                     1.0.8                he774522_0  \n",
      "ca-certificates           2021.7.5             haa95532_1  \n",
      "Note: you may need to restart the kernel to use updated packages.\n",
      "\n",
      "certifi                   2021.5.30        py37haa95532_0  \n",
      "cffi                      1.14.6           py37h2bbff1b_0  \n",
      "charset-normalizer        2.0.6                    pypi_0    pypi\n",
      "click                     7.1.2              pyhd3eb1b0_0  \n",
      "click-plugins             1.1.1              pyhd3eb1b0_0  \n",
      "cligj                     0.7.2            py37haa95532_0  \n",
      "cloudpickle               2.0.0              pyhd3eb1b0_0  \n",
      "colorama                  0.4.4              pyhd3eb1b0_0  \n",
      "cryptography              3.4.7            py37h71e12ea_0  \n",
      "curl                      7.71.1               h86230a5_2  \n",
      "cycler                    0.10.0                   pypi_0    pypi\n",
      "cytoolz                   0.11.0           py37he774522_0  \n",
      "dask-core                 2021.8.1           pyhd3eb1b0_0  \n",
      "debugpy                   1.4.1            py37hd77b12b_0  \n",
      "decorator                 5.0.9              pyhd3eb1b0_0  \n",
      "defusedxml                0.7.1              pyhd3eb1b0_0  \n",
      "descartes                 1.1.0                    pypi_0    pypi\n",
      "dnspython                 2.1.0                    pypi_0    pypi\n",
      "earthpy                   0.9.2                    pypi_0    pypi\n",
      "entrypoints               0.3                      py37_0  \n",
      "esda                      2.4.1                    pypi_0    pypi\n",
      "expat                     2.4.1                h6c2663c_2  \n",
      "fiona                     1.8.4            py37h22081e2_0  \n",
      "flask                     2.0.1                    pypi_0    pypi\n",
      "flask-cors                3.0.10                   pypi_0    pypi\n",
      "flask-json                0.3.4                    pypi_0    pypi\n",
      "fonttools                 4.25.0             pyhd3eb1b0_0  \n",
      "freetype                  2.10.4               hd328e21_0  \n",
      "freexl                    1.0.6                h2bbff1b_0  \n",
      "fsspec                    2021.8.1           pyhd3eb1b0_0  \n",
      "gdal                      2.3.3            py37hdf43c64_0  \n",
      "geographiclib             1.50                     pypi_0    pypi\n",
      "geopandas                 0.8.0                    pypi_0    pypi\n",
      "geopy                     2.0.0                    pypi_0    pypi\n",
      "geos                      3.7.1                h33f27b4_0  \n",
      "hdf4                      4.2.13               h712560f_2  \n",
      "hdf5                      1.10.4               h7ebc959_0  \n",
      "icc_rt                    2019.0.0             h0cc432a_1  \n",
      "icu                       58.2                 ha925a31_3  \n",
      "idna                      3.2                pyhd3eb1b0_0  \n",
      "imageio                   2.9.0              pyhd3eb1b0_0  \n",
      "importlib-metadata        4.8.1            py37haa95532_0  \n",
      "importlib_metadata        4.8.1                hd3eb1b0_0  \n",
      "iniconfig                 1.1.1                    pypi_0    pypi\n",
      "intel-openmp              2021.3.0          haa95532_3372  \n",
      "ipykernel                 6.2.0            py37haa95532_1  \n",
      "ipython                   7.27.0           py37hd4e2768_0  \n",
      "ipython_genutils          0.2.0              pyhd3eb1b0_1  \n",
      "ipywidgets                7.6.4              pyhd3eb1b0_0  \n",
      "itsdangerous              2.0.1                    pypi_0    pypi\n",
      "jedi                      0.18.0           py37haa95532_1  \n",
      "jinja2                    3.0.1              pyhd3eb1b0_0  \n",
      "jmespath                  0.10.0                   pypi_0    pypi\n",
      "joblib                    1.0.1              pyhd3eb1b0_0  \n",
      "jpeg                      9d                   h2bbff1b_0  \n",
      "jsonlines                 1.2.0                    pypi_0    pypi\n",
      "jsonschema                3.2.0              pyhd3eb1b0_2  \n",
      "jupyter                   1.0.0                    py37_7  \n",
      "jupyter_client            7.0.1              pyhd3eb1b0_0  \n",
      "jupyter_console           6.4.0              pyhd3eb1b0_0  \n",
      "jupyter_core              4.7.1            py37haa95532_0  \n",
      "jupyterlab_pygments       0.1.2                      py_0  \n",
      "jupyterlab_widgets        1.0.0              pyhd3eb1b0_1  \n",
      "kealib                    1.4.7                h07cbb95_6  \n",
      "kiwisolver                1.3.2                    pypi_0    pypi\n",
      "krb5                      1.16.4               hc04afaa_0  \n",
      "libboost                  1.73.0              h6c2663c_11  \n",
      "libcurl                   7.71.1               h86230a5_2  \n",
      "libgdal                   2.3.3                h10f50ba_0  \n",
      "libiconv                  1.15                 h1df5818_7  \n",
      "libkml                    1.3.0                hd124aa8_5  \n",
      "libnetcdf                 4.6.1                h411e497_2  \n",
      "libpng                    1.6.37               h2a8f88b_0  \n",
      "libpq                     11.2                 h3235a2c_0  \n",
      "libpysal                  4.3.0                      py_0  \n",
      "libspatialindex           1.9.3                h6c2663c_0  \n",
      "libspatialite             4.3.0a              hc36aec2_19  \n",
      "libssh2                   1.9.0                h7a1dbc1_1  \n",
      "libtiff                   4.2.0                hd0e1b90_0  \n",
      "libxml2                   2.9.12               h0ad7f3c_0  \n",
      "llvmlite                  0.37.0                   pypi_0    pypi\n",
      "locket                    0.2.1            py37haa95532_1  \n",
      "lz4-c                     1.9.3                h2bbff1b_1  \n",
      "m2w64-gcc-libgfortran     5.3.0                         6  \n",
      "m2w64-gcc-libs            5.3.0                         7  \n",
      "m2w64-gcc-libs-core       5.3.0                         7  \n",
      "m2w64-gmp                 6.1.0                         2  \n",
      "m2w64-libwinpthread-git   5.0.0.4634.697f757               2  \n",
      "mapclassify               2.3.0                      py_0  \n",
      "markupsafe                2.0.1            py37h2bbff1b_0  \n",
      "matplotlib                3.4.3                    pypi_0    pypi\n",
      "matplotlib-base           3.4.2            py37h49ac443_0  \n",
      "matplotlib-inline         0.1.2              pyhd3eb1b0_2  \n",
      "mistune                   0.8.4           py37hfa6e2cd_1001  \n",
      "mkl                       2020.2                      256  \n",
      "mkl-service               2.3.0            py37h196d8e1_0  \n",
      "mkl_fft                   1.3.0            py37h46781fe_0  \n",
      "mkl_random                1.1.1            py37h47e9c7a_0  \n",
      "mpmath                    1.1.0                    py37_0  \n",
      "msys2-conda-epoch         20160418                      1  \n",
      "munch                     2.5.0              pyhd3eb1b0_0  \n",
      "munkres                   1.1.4                      py_0  \n",
      "nbclient                  0.5.3              pyhd3eb1b0_0  \n",
      "nbconvert                 6.1.0            py37haa95532_0  \n",
      "nbformat                  5.1.3              pyhd3eb1b0_0  \n",
      "nest-asyncio              1.5.1              pyhd3eb1b0_0  \n",
      "networkx                  2.6.3                    pypi_0    pypi\n",
      "notebook                  6.4.3            py37haa95532_0  \n",
      "numba                     0.54.0                   pypi_0    pypi\n",
      "numpy                     1.19.2           py37hadc3359_0  \n",
      "numpy-base                1.19.2           py37ha3acd2a_0  \n",
      "olefile                   0.46                     py37_0  \n",
      "openssl                   1.1.1l               h2bbff1b_0  \n",
      "packaging                 21.0               pyhd3eb1b0_0  \n",
      "pandas                    1.0.5            py37h47e9c7a_0  \n",
      "pandocfilters             1.4.3            py37haa95532_1  \n",
      "parso                     0.8.2              pyhd3eb1b0_0  \n",
      "partd                     1.2.0              pyhd3eb1b0_0  \n",
      "patsy                     0.5.2                    pypi_0    pypi\n",
      "pcre                      8.45                 hd77b12b_0  \n",
      "pickleshare               0.7.5           pyhd3eb1b0_1003  \n",
      "pillow                    8.3.2                    pypi_0    pypi\n",
      "pip                       21.0.1           py37haa95532_0  \n",
      "pluggy                    1.0.0                    pypi_0    pypi\n",
      "proj4                     5.2.0                ha925a31_1  \n",
      "prometheus_client         0.11.0             pyhd3eb1b0_0  \n",
      "prompt-toolkit            3.0.17             pyhca03da5_0  \n",
      "prompt_toolkit            3.0.17               hd3eb1b0_0  \n",
      "py                        1.10.0                   pypi_0    pypi\n",
      "pycparser                 2.20                       py_2  \n",
      "pygments                  2.10.0             pyhd3eb1b0_0  \n",
      "pyopenssl                 20.0.1             pyhd3eb1b0_1  \n",
      "pyparsing                 2.4.7              pyhd3eb1b0_0  \n",
      "pyproj                    3.2.1                    pypi_0    pypi\n",
      "pyqt                      5.9.2            py37h6538335_2  \n",
      "pyrsistent                0.18.0                   pypi_0    pypi\n",
      "pysocks                   1.7.1                    py37_1  \n",
      "python                    3.7.11               h6244533_0  \n",
      "python-dateutil           2.8.0                    pypi_0    pypi\n",
      "pytz                      2021.1             pyhd3eb1b0_0  \n",
      "pywavelets                1.1.1            py37he774522_2  \n",
      "pywin32                   228              py37hbaba5e8_1  \n",
      "pywinpty                  0.5.7                    py37_0  \n",
      "pyyaml                    5.4.1                    pypi_0    pypi\n",
      "pyzmq                     22.2.1           py37hd77b12b_1  \n",
      "qt                        5.9.7            vc14h73c81de_0  \n",
      "qtconsole                 5.1.1              pyhd3eb1b0_0  \n",
      "qtpy                      1.10.0             pyhd3eb1b0_0  \n",
      "quantecon                 0.5.1                    pypi_0    pypi\n",
      "rasterio                  1.0.21           py37h6bd7d87_0  \n",
      "rasterstats               0.15.0                   pypi_0    pypi\n",
      "requests                  2.26.0             pyhd3eb1b0_0  \n",
      "requests-futures          1.0.0                    pypi_0    pypi\n",
      "rtree                     0.9.4            py37h21ff451_1  \n",
      "s3transfer                0.3.7                    pypi_0    pypi\n",
      "scikit-image              0.18.3                   pypi_0    pypi\n",
      "scikit-learn              0.23.1           py37h25d0782_0  \n",
      "scipy                     1.5.0            py37h9439919_0  \n",
      "seaborn                   0.11.2                   pypi_0    pypi\n",
      "send2trash                1.8.0              pyhd3eb1b0_1  \n",
      "setuptools                58.0.4           py37haa95532_0  \n",
      "shapely                   1.6.4            py37h222a598_0  \n",
      "simplejson                3.17.5                   pypi_0    pypi\n",
      "sip                       4.19.8           py37h6538335_0  \n",
      "six                       1.16.0             pyhd3eb1b0_0  \n",
      "snuggs                    1.4.7              pyhd3eb1b0_0  \n",
      "soupsieve                 2.2.1              pyhd3eb1b0_0  \n",
      "spglm                     1.0.8                    pypi_0    pypi\n",
      "spreg                     1.2.4                    pypi_0    pypi\n",
      "sqlite                    3.36.0               h2bbff1b_0  \n",
      "statsmodels               0.12.2                   pypi_0    pypi\n",
      "sympy                     1.8                      pypi_0    pypi\n",
      "tenacity                  8.0.1                    pypi_0    pypi\n",
      "terminado                 0.9.4            py37haa95532_0  \n",
      "testpath                  0.5.0              pyhd3eb1b0_0  \n",
      "threadpoolctl             2.2.0              pyh0d69192_0  \n",
      "tifffile                  2021.8.30                pypi_0    pypi\n",
      "tk                        8.6.11               h2bbff1b_0  \n",
      "toml                      0.10.2                   pypi_0    pypi\n",
      "toolz                     0.11.1             pyhd3eb1b0_0  \n",
      "tornado                   6.1              py37h2bbff1b_0  \n",
      "tqdm                      4.62.3                   pypi_0    pypi\n",
      "traitlets                 5.1.0              pyhd3eb1b0_0  \n",
      "typing_extensions         3.10.0.2           pyh06a4308_0  \n",
      "urllib3                   1.24.3                   pypi_0    pypi\n",
      "vc                        14.2                 h21ff451_1  \n",
      "vs2015_runtime            14.27.29016          h5e58377_2  \n",
      "wcwidth                   0.2.5              pyhd3eb1b0_0  \n",
      "webencodings              0.5.1                    py37_1  \n",
      "werkzeug                  2.0.1                    pypi_0    pypi\n",
      "wheel                     0.37.0             pyhd3eb1b0_1  \n",
      "widgetsnbextension        3.5.1                    py37_0  \n",
      "win_inet_pton             1.1.0            py37haa95532_0  \n",
      "wincertstore              0.2                      py37_0  \n",
      "winpty                    0.4.3                         4  \n",
      "xerces-c                  3.2.3                ha925a31_0  \n",
      "xz                        5.2.5                h62dcd97_0  \n",
      "yaml                      0.2.5                he774522_0  \n",
      "zipp                      3.6.0                    pypi_0    pypi\n",
      "zlib                      1.2.11               h62dcd97_4  \n",
      "zstd                      1.4.9                h19a0ad4_0  \n"
     ]
    }
   ],
   "source": [
    "conda list"
   ]
  },
  {
   "cell_type": "markdown",
   "metadata": {},
   "source": [
    "## G is for *Generalizable* \n",
    "When we're making measurements of an earth system process, we often care deeply about how well uur experimental results apply to other times/places. Since it is often too expensive or two difficult to collect in-situ samples of our earth systems process at all the times and locations that matter, environmental data science allows us to use statistical models to leverage globally available observations to improve the generalizability of our system. These models will generalize our inferences about our earth systems process in one of three ways:\n",
    "\n",
    "1. *Prediction*: can our model allow us to generalize our observations to out-of-sample times and locations? For example: will my model linking air temperature to green-up time from my experimental forest accurately apply to a forest 200 miles away? \n",
    "2. *Interpolation*: can our model allow us to \"fill in the gaps\" in our spatial/temporal sampling schele? For example: do my measurements of precipitation for my two precipitation gage locations accurately represent the total precipitation that fell in my watershed?\n",
    "3. *Diagnosis*: can our model help us to interpret what processes are either drivers of or covariates with our earth systems process, allowing us to improve our physical understanding of trends and variability in that system: for example: is air temperature or precipitation a more important driver of current cropping system productivity, and how might this impact cropping system function under climate change? \n",
    "\n",
    "### These global observations are often publically available to researchers on online geodatabases.\n",
    "For example:\n",
    " - NASA: https://earthdata.nasa.gov/\n",
    " - USGS: https://earthexplorer.usgs.gov/ \n",
    " - NOAA: https://psl.noaa.gov/data/gridded/ \n",
    " - Google: https://developers.google.com/earth-engine/datasets \n",
    " - NY State: https://cugir.library.cornell.edu/ \n"
   ]
  },
  {
   "cell_type": "markdown",
   "metadata": {},
   "source": [
    "## R is for *Reproducible*\n",
    "Since the raw data for our generalizable analysis is globally available, programmatically accessing our data gives us an important added benefit: we can design our version controlled, collaborative project repositories so they directly interface with these public geodatabases. That way, anyone who wants to can access the raw data required to reproduce our analytic workflow.\n",
    "\n",
    "A reminder on why reproducible science is so important:"
   ]
  },
  {
   "cell_type": "code",
   "execution_count": 2,
   "metadata": {},
   "outputs": [
    {
     "name": "stderr",
     "output_type": "stream",
     "text": [
      "C:\\Apps-SU\\Anaconda3\\lib\\site-packages\\IPython\\core\\display.py:717: UserWarning: Consider using IPython.display.IFrame instead\n",
      "  warnings.warn(\"Consider using IPython.display.IFrame instead\")\n"
     ]
    },
    {
     "data": {
      "text/html": [
       "<iframe width=\"930\" height=\"523\" src=\"https://www.youtube.com/embed/NGFO0kdbZmk\", frameborder=\"0\" allowfullscreen></iframe>"
      ],
      "text/plain": [
       "<IPython.core.display.HTML object>"
      ]
     },
     "execution_count": 2,
     "metadata": {},
     "output_type": "execute_result"
    }
   ],
   "source": [
    "HTML('<iframe width=\"930\" height=\"523\" src=\"https://www.youtube.com/embed/NGFO0kdbZmk\", frameborder=\"0\" allowfullscreen></iframe>')"
   ]
  },
  {
   "cell_type": "markdown",
   "metadata": {},
   "source": [
    "### Project Repository\n",
    "Your project repository is where you store all of the elements of your data science workflow. At it's core, it should have folders for raw data, processed data, code, outputs, and images. A good project repository is.\n",
    "\n",
    "1. Human readable: use directory names that are easy to understand, includes a highly detailed README file that explains what's in each folder, how to sequence inputs and outputs to code files, and how to cite the repository.\n",
    "2. Machine readable - avoid funky characters OR SPACES.\n",
    "3. Supportive of sorting - If you have a list of input files, it’s nice to be able to sort them to quickly see what’s there and find what you need.\n",
    "\n",
    "You should also take extra steps to preserve raw data so it’s not modified. More on this later. \n",
    "\n",
    "We're going to create a new repository for your class project. The os package (os stands for **O**perating **S**ystem) allows you to manipulate files on your computer. Ask it what it does:"
   ]
  },
  {
   "cell_type": "code",
   "execution_count": 3,
   "metadata": {},
   "outputs": [],
   "source": [
    "?os"
   ]
  },
  {
   "cell_type": "code",
   "execution_count": 4,
   "metadata": {},
   "outputs": [
    {
     "data": {
      "text/plain": [
       "'C:\\\\Users\\\\ekcarter\\\\Data'"
      ]
     },
     "execution_count": 4,
     "metadata": {},
     "output_type": "execute_result"
    }
   ],
   "source": [
    "#For example, this command is the equivalent of ls in terminal:\n",
    "os.getcwd()"
   ]
  },
  {
   "cell_type": "code",
   "execution_count": 3,
   "metadata": {},
   "outputs": [],
   "source": [
    "#this command is the equivalent of:\n",
    "mkdir H:/EnvDatSci/project\n",
    "#os.mkdir('H:\\\\EnvDatSci\\\\project')\n",
    "\n",
    "#this command is the equivalent of:\n",
    "# cd H:/EnvDatSci/project\n",
    "os.chdir('H:\\\\EnvDatSci\\\\project')"
   ]
  },
  {
   "cell_type": "markdown",
   "metadata": {},
   "source": [
    "### TASK 1: enter a command in the below cell to check and make sure you're in your project directory:"
   ]
  },
  {
   "cell_type": "code",
   "execution_count": 4,
   "metadata": {},
   "outputs": [
    {
     "data": {
      "text/plain": [
       "'H:\\\\EnvDatSci\\\\project'"
      ]
     },
     "execution_count": 4,
     "metadata": {},
     "output_type": "execute_result"
    }
   ],
   "source": [
    "#Task 1:\n",
    "os.getcwd()"
   ]
  },
  {
   "cell_type": "markdown",
   "metadata": {},
   "source": [
    "### TASK 2: populate your project directory with appropriate files\n",
    "Read Chapter 4.1 of the textbook: https://www.earthdatascience.org/courses/earth-analytics/document-your-science/file-organization-101/\n",
    "\n",
    "Using os commands, populate your project directory with subfolders.\n",
    "\n",
    "Print your directory to the screen (hint: see Task 1)"
   ]
  },
  {
   "cell_type": "code",
   "execution_count": 11,
   "metadata": {},
   "outputs": [
    {
     "data": {
      "text/plain": [
       "['code', 'data_analysisReady', 'data_raw', 'figures']"
      ]
     },
     "execution_count": 11,
     "metadata": {},
     "output_type": "execute_result"
    }
   ],
   "source": [
    "#Task 2:\n",
    "os.mkdir(\"data_raw\")\n",
    "os.mkdir(\"data_analysisReady\")\n",
    "os.mkdir(\"code\")\n",
    "os.mkdir(\"figures\")\n",
    "os.listdir()"
   ]
  },
  {
   "cell_type": "markdown",
   "metadata": {},
   "source": [
    "### TASK 3: change the current working directory to your the folder where you intend to store raw data."
   ]
  },
  {
   "cell_type": "code",
   "execution_count": 5,
   "metadata": {},
   "outputs": [],
   "source": [
    "#Task 3:\n",
    "os.chdir(\"./data_raw\")"
   ]
  },
  {
   "cell_type": "markdown",
   "metadata": {},
   "source": [
    "## Decoding the file structure of online geodatabases\n",
    "Just like we can use code to find and access files on our local machine, we can use code to find and access files on public geodatabases. Since these geodatabases are version controlled, providing code that links to the online files helps prevent us from making redundant copies of data on the internet. Programatically accessing public geodatabases requires that we understand how the database itself has been organized. \n",
    "\n",
    " - Click on the following link to the National Oceanic and Atmospheric Association databse website: https://psl.noaa.gov/data/gridded/ \n",
    "\n",
    " - Navigate to the \"NCEP/NCAR Reanalysis dataset\"\n",
    " - Of the seven sections they've divided data into, click on \"Surface\" \n",
    " - Under \"Air Temperature: Daily\", click \"See list\"\n",
    " - Under \"Surface\", click \"See list\"\n",
    "\n",
    "### TASK 4: Right click on the first link in the list, and select \"copy link\". Paste that link address below:\n",
    "https://downloads.psl.noaa.gov/Datasets/ncep.reanalysis.dailyavgs/surface/air.sig995.1948.nc"
   ]
  },
  {
   "cell_type": "markdown",
   "metadata": {},
   "source": [
    "##### Task 4: double click on this markdown cell to add text"
   ]
  },
  {
   "cell_type": "markdown",
   "metadata": {},
   "source": [
    "### Tasking your computer to download files\n",
    "Our goal is to write a script that can download files, extract a relevant subset of information from the files, and then delete the files. The first part of this task to to learn the filenames that we want to download. \n",
    "\n",
    "In the link above, we can break the filepath down into substrings, using basic text commands:"
   ]
  },
  {
   "cell_type": "code",
   "execution_count": 6,
   "metadata": {},
   "outputs": [
    {
     "name": "stdout",
     "output_type": "stream",
     "text": [
      "https://downloads.psl.noaa.gov/Datasets/ncep.reanalysis.dailyavgs/surface/air.sig995.2010.nc\n"
     ]
    }
   ],
   "source": [
    "http_dir = \"https://downloads.psl.noaa.gov/Datasets/\"\n",
    "dataset = \"ncep.reanalysis.dailyavgs\"\n",
    "lev_type = \"surface\"\n",
    "variable = \"air.sig995.\"\n",
    "time = \"2010\"\n",
    "file_type = \".nc\"\n",
    "filepaths= http_dir + dataset + \"/\" + lev_type + \"/\" + variable + time + file_type\n",
    "print(filepaths)"
   ]
  },
  {
   "cell_type": "markdown",
   "metadata": {},
   "source": [
    "What happens if you click on that link? You can also have python download the file for you using the <urllib.request.urlretrieve> function:"
   ]
  },
  {
   "cell_type": "code",
   "execution_count": 7,
   "metadata": {},
   "outputs": [],
   "source": [
    "#what does this function do and how do we use it?\n",
    "?urllib.request.urlretrieve"
   ]
  },
  {
   "cell_type": "code",
   "execution_count": 21,
   "metadata": {},
   "outputs": [
    {
     "name": "stdout",
     "output_type": "stream",
     "text": [
      "https://downloads.psl.noaa.gov/Datasets/ncep.reanalysis.dailyavgs/surface/air.sig995.2010.nc air.sig995.2010.nc\n"
     ]
    }
   ],
   "source": [
    "url = filepaths\n",
    "filename = variable + time + file_type\n",
    "urllib.request.urlretrieve(url, filename)\n",
    "print(url, filename)"
   ]
  },
  {
   "cell_type": "code",
   "execution_count": 22,
   "metadata": {},
   "outputs": [
    {
     "data": {
      "text/plain": [
       "['air.sig995.2010.nc']"
      ]
     },
     "execution_count": 22,
     "metadata": {},
     "output_type": "execute_result"
    }
   ],
   "source": [
    "#what happens?\n",
    "os.listdir()"
   ]
  },
  {
   "cell_type": "markdown",
   "metadata": {},
   "source": [
    "We can infer patterns from the database itself and generate the names of multiple files. For example, if we need five years of daily air temperature data:"
   ]
  },
  {
   "cell_type": "code",
   "execution_count": 23,
   "metadata": {},
   "outputs": [
    {
     "name": "stdout",
     "output_type": "stream",
     "text": [
      "0    https://downloads.psl.noaa.gov/Datasets/ncep.r...\n",
      "1    https://downloads.psl.noaa.gov/Datasets/ncep.r...\n",
      "2    https://downloads.psl.noaa.gov/Datasets/ncep.r...\n",
      "3    https://downloads.psl.noaa.gov/Datasets/ncep.r...\n",
      "4    https://downloads.psl.noaa.gov/Datasets/ncep.r...\n",
      "dtype: object\n"
     ]
    }
   ],
   "source": [
    "time =pd.Series(list(range(1965,1970)))\n",
    "time = time.apply(str)\n",
    "filepaths= http_dir + dataset + \"/\" + lev_type + \"/\" + variable + time + file_type\n",
    "print(filepaths)"
   ]
  },
  {
   "cell_type": "markdown",
   "metadata": {},
   "source": [
    "### TASK 5: Write a \"for\" loop that downloads all five years worth of air temperature data into you working directory. Print the contents of your directory to the screen."
   ]
  },
  {
   "cell_type": "code",
   "execution_count": 30,
   "metadata": {},
   "outputs": [
    {
     "data": {
      "text/plain": [
       "['air.sig995.1965.nc',\n",
       " 'air.sig995.1966.nc',\n",
       " 'air.sig995.1967.nc',\n",
       " 'air.sig995.1968.nc',\n",
       " 'air.sig995.1969.nc']"
      ]
     },
     "execution_count": 30,
     "metadata": {},
     "output_type": "execute_result"
    }
   ],
   "source": [
    "#Task 5\n",
    "for i in range(len(filepaths)):\n",
    "    filename = variable + time[i] + file_type\n",
    "    url= filepaths[i]\n",
    "    urllib.request.urlretrieve(url, filename)\n",
    "os.listdir()"
   ]
  }
 ],
 "metadata": {
  "kernelspec": {
   "display_name": "geostats_env",
   "language": "python",
   "name": "geostats_env"
  },
  "language_info": {
   "codemirror_mode": {
    "name": "ipython",
    "version": 3
   },
   "file_extension": ".py",
   "mimetype": "text/x-python",
   "name": "python",
   "nbconvert_exporter": "python",
   "pygments_lexer": "ipython3",
   "version": "3.7.11"
  }
 },
 "nbformat": 4,
 "nbformat_minor": 4
}
